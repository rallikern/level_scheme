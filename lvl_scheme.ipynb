{
 "cells": [
  {
   "cell_type": "code",
   "execution_count": 1,
   "metadata": {},
   "outputs": [],
   "source": [
    "import lvl_plotter as ls\n"
   ]
  },
  {
   "cell_type": "code",
   "execution_count": 2,
   "metadata": {},
   "outputs": [],
   "source": [
    "#transition for normalization\n",
    "tran2_0 = 1178/5\n",
    "#ground state\n",
    "lvl0 = ls.level(0,0,1,1)\n",
    "#first excited state 2+\n",
    "lvl1 = ls.level(774,2,1,1)\n",
    "lvl1.add_decay(0,1)\n",
    "#second 0+\n",
    "lvl2 = ls.level(1300,0,1,2)\n",
    "lvl2.add_decay(774,3.3/tran2_0)\n",
    "#second 2+\n",
    "lvl3 = ls.level(1490,2,1,2)\n",
    "lvl3.add_decay(774,16/tran2_0)\n",
    "lvl3.add_decay(0,30/tran2_0)\n",
    "#first 4+\n",
    "lvl4 = ls.level(1802,4,1,1)\n",
    "lvl4.add_decay(774,105/tran2_0)\n",
    "#first 3-\n",
    "lvl5 = ls.level(1935,3,-1,1)\n",
    "lvl5.add_decay(774,3.3/tran2_0)\n",
    "lvl5.add_decay(0,0.5/tran2_0)\n",
    "#third 2+\n",
    "lvl6 = ls.level(2140,2,1,3)\n",
    "lvl6.add_decay(0,0.75/tran2_0)\n",
    "lvl6.add_decay(774,2.8/tran2_0)\n",
    "#second 4+\n",
    "lvl7 = ls.level(2264,4,1,2)\n",
    "lvl7.add_decay(774,4/tran2_0)\n",
    "#third 3+\n",
    "lvl8 = ls.level(2400,4,1,3)\n",
    "lvl8.add_decay(774,2.7/tran2_0)\n",
    "lvl8.add_decay(1490,3.6/tran2_0)\n",
    "# 6+\n",
    "lvl9 = ls.level(2950,(5,6),1,-1)\n",
    "lvl9.add_decay(1802,3.4/tran2_0)\n",
    "# 6+\n",
    "lvl10 = ls.level(2333,2,1,4)\n",
    "#lvl10.add_decay(774,1.4/tran2_0)\n",
    "#lvl10.add_decay(0,0.4/tran2_0)\n",
    "# 6+\n",
    "lvl11 = ls.level(3222,\"3224(2)\\,\\mathrm{keV}\",1,-2)\n",
    "lvl11.add_decay(1802,0.4/tran2_0)\n",
    "#lvl11.add_decay(0,0.4/tran2_0)\n",
    "\n",
    "#lvl12 = ls.level(2500,3,-1,2)\n",
    "#lvl12.add_decay(1935,0.05/tran2_0)\n",
    "\n",
    "lvl_list = [lvl10,lvl11,lvl9,lvl8,lvl7,lvl6,lvl5,lvl4,lvl3,lvl2,lvl1,lvl0]\n"
   ]
  },
  {
   "cell_type": "code",
   "execution_count": null,
   "metadata": {},
   "outputs": [],
   "source": [
    "ls.plotter(lvl_list,1,\"./140nd_ls_py.pdf\",True,True,True,8)"
   ]
  },
  {
   "cell_type": "code",
   "execution_count": 4,
   "metadata": {},
   "outputs": [],
   "source": [
    "#ground state\n",
    "lvl0 = ls.level(0,0,1,1)\n",
    "#first excited state\n",
    "lvl1 = ls.level(774,2,1,1)\n",
    "lvl1.add_decay(0,1)\n",
    "#second\n",
    "lvl2 = ls.level(1802,4,1,1)\n",
    "lvl3 = ls.level(1490,2,1,2)\n",
    "lvl4 = ls.level(2140,2,1,3)\n",
    "\n",
    "lvl2.add_decay(774,5*135/1035)\n",
    "lvl3.add_decay(774,5*22/1035)\n",
    "lvl3.add_decay(0,5*37/1035)\n",
    "lvl4.add_decay(774,5*1.8/1035)\n",
    "lvl4.add_decay(0,5*0.5/1035)\n",
    "\n",
    "lvl_list_subset = [lvl4,lvl3,lvl2,lvl1,lvl0]"
   ]
  },
  {
   "cell_type": "code",
   "execution_count": 6,
   "metadata": {},
   "outputs": [
    {
     "data": {
      "image/png": "[encoded data removed]",
      "text/plain": [
       "<Figure size 432x288 with 1 Axes>"
      ]
     },
     "metadata": {},
     "output_type": "display_data"
    }
   ],
   "source": [
    "test = ls.plotter(lvl_list_subset,1,\"/home/rkern/Physik/hieisolde/pictures/140nd_ls_subset_py.pdf\",True,False,20)"
   ]
  },
  {
   "cell_type": "code",
   "execution_count": 10,
   "metadata": {},
   "outputs": [
    {
     "data": {
      "text/plain": [
       "1.006944608567655e-14"
      ]
     },
     "execution_count": 10,
     "metadata": {},
     "output_type": "execute_result"
    }
   ],
   "source": [
    "#1/ts.gammaE(85,2,1.191,1,0)[0]\n",
    "1/ts.gammaM(85,1,1.191,3.34,0)[0]"
   ]
  },
  {
   "cell_type": "code",
   "execution_count": 11,
   "metadata": {},
   "outputs": [
    {
     "name": "stdout",
     "output_type": "stream",
     "text": [
      "203 keV_\n",
      "6^\n"
     ]
    }
   ],
   "source": [
    "tut = ['203 keV',6]\n",
    "for i in tut:\n",
    "    try:\n",
    "        if 'keV' in i: print(str(i)+'_')\n",
    "    except:\n",
    "        print(str(i)+'^')"
   ]
  },
  {
   "cell_type": "code",
   "execution_count": null,
   "metadata": {},
   "outputs": [],
   "source": []
  }
 ],
 "metadata": {
  "kernelspec": {
   "display_name": "Python 3",
   "language": "python",
   "name": "python3"
  },
  "language_info": {
   "codemirror_mode": {
    "name": "ipython",
    "version": 3
   },
   "file_extension": ".py",
   "mimetype": "text/x-python",
   "name": "python",
   "nbconvert_exporter": "python",
   "pygments_lexer": "ipython3",
   "version": "3.6.8"
  }
 },
 "nbformat": 4,
 "nbformat_minor": 2
}
